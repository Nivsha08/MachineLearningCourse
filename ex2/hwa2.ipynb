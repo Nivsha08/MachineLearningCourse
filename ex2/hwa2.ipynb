{
 "cells": [
  {
   "cell_type": "markdown",
   "metadata": {},
   "source": [
    "# Exercise 2: Decision Trees\n",
    "\n",
    "In this assignment you will implement a Decision Tree algorithm as learned in class.\n",
    "\n",
    "## Read the following instructions carefully:\n",
    "\n",
    "1. This jupyter notebook contains all the step by step instructions needed for this exercise.\n",
    "2. Write vectorized code whenever possible.\n",
    "3. You are responsible for the correctness of your code and should add as many tests as you see fit. Tests will not be graded nor checked.\n",
    "4. Write your functions in the provided `hw2.py` python module only. All the logic you write is imported and used in this jupyter notebook.\n",
    "5. You are allowed to use functions and methods from the [Python Standard Library](https://docs.python.org/3/library/) and [numpy](https://www.numpy.org/devdocs/reference/) only. Any other imports detected in `hw2.py` will earn you the grade of 0, even if you only used them for testing.\n",
    "6. Your code must run without errors. During the environment setup, you were given a specific version of `numpy` to install. Changes of the configuration we provided are at your own risk. Code that cannot run will also earn you the grade of 0.\n",
    "7. Write your own code. Cheating will not be tolerated. \n",
    "8. Submission includes the `hw2.py` file and this notebook. Answers to qualitative questions should be written in markdown cells (with $\\LaTeX$ support).\n",
    "9. You are allowed to include additional functions.\n",
    "10. Submission: zip only the completed jupyter notebook and the python file `hw2.py`. Do not include the data or any directories. Name the file `ID1_ID2.zip` and submit only one copy of the assignment.\n",
    "\n",
    "## In this exercise you will perform the following:\n",
    "1. Practice OOP in python.\n",
    "2. Implement two impurity measures: Gini and Entropy.\n",
    "3. Implement a decision tree from scratch.\n",
    "4. Prune the tree to achieve better results.\n",
    "5. Visualize your results and the tree."
   ]
  },
  {
   "cell_type": "code",
   "execution_count": 200,
   "metadata": {
    "deletable": false,
    "editable": false,
    "nbgrader": {
     "checksum": "63bcec20cb406a2169b49168f173c760",
     "grade": false,
     "grade_id": "cell-ed9fe7b1026e33cb",
     "locked": true,
     "schema_version": 1,
     "solution": false
    }
   },
   "outputs": [
    {
     "name": "stdout",
     "output_type": "stream",
     "text": [
      "The autoreload extension is already loaded. To reload it, use:\n",
      "  %reload_ext autoreload\n"
     ]
    }
   ],
   "source": [
    "import numpy as np\n",
    "import pandas as pd\n",
    "import matplotlib.pyplot as plt\n",
    "from hw2 import * # this imports all functions from hw2.\n",
    "\n",
    "# make matplotlib figures appear inline in the notebook\n",
    "%matplotlib inline\n",
    "plt.rcParams['figure.figsize'] = (10.0, 8.0) # set default size of plots\n",
    "plt.rcParams['image.interpolation'] = 'nearest'\n",
    "plt.rcParams['image.cmap'] = 'gray'\n",
    "\n",
    "# Make the notebook automatically reload external python modules\n",
    "%load_ext autoreload\n",
    "%autoreload 2"
   ]
  },
  {
   "cell_type": "markdown",
   "metadata": {},
   "source": [
    "## Warmup - OOP in python\n",
    "\n",
    "Our decision tree will be implemented using a dedicated python class. Python classes are very similar to classes in Java.\n",
    "\n",
    "\n",
    "You can use the following [site](https://jeffknupp.com/blog/2014/06/18/improve-your-python-python-classes-and-object-oriented-programming/) to learn about classes in python."
   ]
  },
  {
   "cell_type": "code",
   "execution_count": 201,
   "metadata": {},
   "outputs": [],
   "source": [
    "class Node(object):\n",
    "    def __init__(self, data):\n",
    "        self.data = data\n",
    "        self.children = []\n",
    "\n",
    "    def add_child(self, node):\n",
    "        self.children.append(node)"
   ]
  },
  {
   "cell_type": "code",
   "execution_count": 202,
   "metadata": {},
   "outputs": [
    {
     "data": {
      "text/plain": [
       "[<__main__.Node at 0x1a1c34df28>, <__main__.Node at 0x1a1a505a90>]"
      ]
     },
     "execution_count": 202,
     "metadata": {},
     "output_type": "execute_result"
    }
   ],
   "source": [
    "n = Node(5)\n",
    "p = Node(6)\n",
    "q = Node(7)\n",
    "n.add_child(p)\n",
    "n.add_child(q)\n",
    "n.children"
   ]
  },
  {
   "cell_type": "markdown",
   "metadata": {},
   "source": [
    "## Data preprocessing\n",
    "\n",
    "We will use the breast cancer dataset that is available as a part of sklearn - a popular machine learning and data science library in python. In this example, our dataset will be a single matrix with the **labels on the last column**. Notice that you are not allowed to use additional functions from sklearn."
   ]
  },
  {
   "cell_type": "code",
   "execution_count": 203,
   "metadata": {
    "deletable": false,
    "editable": false,
    "nbgrader": {
     "checksum": "0e2620b671ce98b8a856d59ce9f95f71",
     "grade": false,
     "grade_id": "cell-d79cb4542926ad3f",
     "locked": true,
     "schema_version": 1,
     "solution": false
    }
   },
   "outputs": [
    {
     "name": "stdout",
     "output_type": "stream",
     "text": [
      "Training dataset shape:  (426, 31)\n",
      "Testing dataset shape:  (143, 31)\n"
     ]
    }
   ],
   "source": [
    "from sklearn import datasets\n",
    "from sklearn.model_selection import train_test_split\n",
    "\n",
    "# load dataset\n",
    "X, y = datasets.load_breast_cancer(return_X_y = True)\n",
    "X = np.column_stack([X,y]) # the last column holds the labels\n",
    "\n",
    "# split dataset\n",
    "X_train, X_test = train_test_split(X, random_state=99)\n",
    "\n",
    "print(\"Training dataset shape: \", X_train.shape)\n",
    "print(\"Testing dataset shape: \", X_test.shape)"
   ]
  },
  {
   "cell_type": "code",
   "execution_count": 204,
   "metadata": {},
   "outputs": [],
   "source": [
    "# initialize class example dataset\n",
    "class_dataset = np.array([[0,0,1,0,0],\n",
    "                   [0,0,1,1,0],\n",
    "                   [1,0,1,0,1],\n",
    "                   [2,1,1,0,1],\n",
    "                   [2,2,0,0,1],\n",
    "                   [2,2,0,1,0],\n",
    "                   [1,2,0,1,1],\n",
    "                   [0,1,1,0,0],\n",
    "                   [0,2,0,0,1],\n",
    "                   [2,1,0,0,1],\n",
    "                   [0,1,0,1,1],\n",
    "                   [1,1,1,1,1],\n",
    "                   [1,0,0,0,1],\n",
    "                   [2,1,1,1,0]])"
   ]
  },
  {
   "cell_type": "markdown",
   "metadata": {},
   "source": [
    "## Impurity Measures\n",
    "\n",
    "Implement the functions `calc_gini` (5 points) and `calc_entropy` (5 points) in the python file `hw2.py`. You are encouraged to test your implementation using the cell below."
   ]
  },
  {
   "cell_type": "code",
   "execution_count": 205,
   "metadata": {},
   "outputs": [
    {
     "name": "stdout",
     "output_type": "stream",
     "text": [
      "0.9402859586706311\n",
      "entropy V\n",
      "0.4591836734693877\n",
      "gini V\n"
     ]
    }
   ],
   "source": [
    "# data from class enropy example\n",
    "# entropy test \n",
    "entropy = calc_entropy(class_dataset)\n",
    "print(entropy)\n",
    "print('entropy V' if np.isclose(entropy, 0.940, rtol=1e-01) else 'entropy X')\n",
    "\n",
    "# gini test\n",
    "gini = calc_gini(class_dataset)\n",
    "print(gini)\n",
    "print('gini V' if np.isclose(gini, 0.450, rtol=1e-01) else 'gini X')"
   ]
  },
  {
   "cell_type": "markdown",
   "metadata": {},
   "source": [
    "## Building a Decision Tree\n",
    "\n",
    "Use a Python class to construct the decision tree (look at the `DecisionNode` class in the python file `hw2.py`. Your class should support the following functionality:\n",
    "\n",
    "1. Initiating a node for a decision tree. You will need to use several class methods and class attributes and you are free to use them as you see fit. We recommend that every node will hold the feature and value used for the split and its children.\n",
    "2. Your code should support both Gini and Entropy as impurity measures. \n",
    "3. The provided data includes continuous data. In this exercise, create at most a single split for each node of the tree. The threshold you need to use for this exercise are the average of each consecutive pair of values. For example, assume some features contains the following values: [1,2,3,4,5]. You should use the following thresholds [1.5, 2.5, 3.5, 4.5]. \n",
    "4. When constructing the tree, test all possible thresholds for each feature. The stopping criteria is a pure tree.\n",
    "\n",
    "Complete the class `DecisionNode` in the python file `hw2.py`. The structure of this class is entirely up to you. Complete the function `build_tree` in the python file `hw2.py`. This function should get the training dataset and the impurity as inputs, initiate a root for the decision tree and construct the tree according to the procedure you learned in class. (30 points)."
   ]
  },
  {
   "cell_type": "code",
   "execution_count": 206,
   "metadata": {},
   "outputs": [
    {
     "name": "stdout",
     "output_type": "stream",
     "text": [
      "[1.5, 2.5, 3.5, 4.5]\n"
     ]
    }
   ],
   "source": [
    "# threshold function test\n",
    "test_values = [1,2,3,4,5]\n",
    "test_values = np.column_stack([test_values, np.zeros(len(test_values))])\n",
    "test_thresholds = build_thresholds_for_attribute_values(test_values, 0)\n",
    "print(test_thresholds)"
   ]
  },
  {
   "cell_type": "code",
   "execution_count": 207,
   "metadata": {},
   "outputs": [],
   "source": [
    "# test settings definitions on X_train data\n",
    "test_attribute_index = 8\n",
    "test_threshold = 0.23\n",
    "test_impurity_function = calc_entropy"
   ]
  },
  {
   "cell_type": "code",
   "execution_count": 208,
   "metadata": {},
   "outputs": [
    {
     "data": {
      "text/plain": [
       "0.9546904191180343"
      ]
     },
     "execution_count": 208,
     "metadata": {},
     "output_type": "execute_result"
    }
   ],
   "source": [
    "# weighted average test on X_train data\n",
    "calc_weighted_average_by_attribute(X_train, test_attribute_index, test_threshold, test_impurity_function)"
   ]
  },
  {
   "cell_type": "code",
   "execution_count": 209,
   "metadata": {},
   "outputs": [
    {
     "name": "stdout",
     "output_type": "stream",
     "text": [
      "(400, 26)\n",
      "(367, 33)\n"
     ]
    }
   ],
   "source": [
    "# data split test on X_train data\n",
    "test_group_a, test_group_b, group_a_size, group_b_size = split_data(X_train, test_attribute_index, test_threshold)\n",
    "print(\"(%d, %d)\" % (group_a_size, group_b_size))\n",
    "seconds_split_attribute_index = 5\n",
    "second_split_test_threshold = 0.17\n",
    "test_group_a, test_group_b, group_a_size, group_b_size = split_data(test_group_a, seconds_split_attribute_index, second_split_test_threshold)\n",
    "print(\"(%d, %d)\" % (group_a_size, group_b_size))"
   ]
  },
  {
   "cell_type": "code",
   "execution_count": 210,
   "metadata": {},
   "outputs": [],
   "source": [
    "# test attribute column removal\n",
    "test_group_a = remove_attribute_column(test_group_a, 1)"
   ]
  },
  {
   "cell_type": "code",
   "execution_count": 211,
   "metadata": {},
   "outputs": [
    {
     "data": {
      "text/plain": [
       "(0.15183550136234159, 2, 0.5)"
      ]
     },
     "execution_count": 211,
     "metadata": {},
     "output_type": "execute_result"
    }
   ],
   "source": [
    "# test find best information gain on class example dataset\n",
    "find_best_information_gain_params(class_dataset, calc_entropy)"
   ]
  },
  {
   "cell_type": "code",
   "execution_count": 224,
   "metadata": {},
   "outputs": [],
   "source": [
    "# python support passing a function as arguments to another function.\n",
    "tree_gini = build_tree(data=X_train, impurity=calc_gini, p_value=1) \n",
    "tree_entropy = build_tree(data=X_train, impurity=calc_entropy, p_value=1)"
   ]
  },
  {
   "cell_type": "markdown",
   "metadata": {},
   "source": [
    "## Tree evaluation\n",
    "\n",
    "Complete the functions `predict` and `calc_accuracy` in the python file `hw2.py`. You are allowed to implement this functionality as a class method.\n",
    "\n",
    "After building both trees using the training set (using Gini and Entropy as impurity measures), you should calculate the accuracy on the test set and print the measure that gave you the best test accuracy. For the rest of the exercise, use that impurity measure. (10 points)"
   ]
  },
  {
   "cell_type": "code",
   "execution_count": 250,
   "metadata": {},
   "outputs": [
    {
     "name": "stdout",
     "output_type": "stream",
     "text": [
      "0 1.0\n",
      "1 1.0\n",
      "2 1.0\n",
      "3 1.0\n",
      "4 1.0\n",
      "5 0.0\n",
      "6 0.0\n",
      "7 0.0\n",
      "8 1.0\n",
      "9 1.0\n",
      "10 0.0\n",
      "11 1.0\n",
      "12 0.0\n",
      "13 1.0\n",
      "14 1.0\n",
      "15 0.0\n",
      "16 0.0\n",
      "17 1.0\n",
      "18 1.0\n",
      "19 1.0\n",
      "20 1.0\n",
      "21 1.0\n",
      "22 1.0\n",
      "23 1.0\n",
      "24 0.0\n",
      "25 1.0\n",
      "26 1.0\n",
      "27 1.0\n",
      "28 1.0\n",
      "29 1.0\n",
      "30 0.0\n",
      "31 1.0\n",
      "32 1.0\n",
      "33 1.0\n",
      "34 1.0\n",
      "35 1.0\n",
      "36 1.0\n",
      "37 1.0\n",
      "38 1.0\n",
      "39 0.0\n",
      "40 1.0\n",
      "41 1.0\n",
      "42 1.0\n",
      "43 0.0\n",
      "44 1.0\n",
      "45 1.0\n",
      "46 1.0\n",
      "47 1.0\n",
      "48 0.0\n",
      "49 1.0\n",
      "50 0.0\n",
      "51 0.0\n",
      "52 1.0\n",
      "53 1.0\n",
      "54 0.0\n",
      "55 1.0\n",
      "56 1.0\n",
      "57 1.0\n",
      "58 1.0\n",
      "59 1.0\n",
      "60 0.0\n",
      "61 0.0\n",
      "62 0.0\n",
      "63 1.0\n",
      "64 0.0\n",
      "65 1.0\n",
      "66 1.0\n",
      "67 1.0\n",
      "68 1.0\n",
      "69 0.0\n",
      "70 1.0\n",
      "71 0.0\n",
      "72 0.0\n",
      "73 1.0\n",
      "74 0.0\n",
      "75 0.0\n",
      "76 1.0\n",
      "77 0.0\n",
      "78 0.0\n",
      "79 1.0\n",
      "80 1.0\n",
      "81 1.0\n",
      "82 1.0\n",
      "83 1.0\n",
      "84 0.0\n",
      "85 1.0\n",
      "86 1.0\n",
      "87 1.0\n",
      "88 0.0\n",
      "89 1.0\n",
      "90 0.0\n",
      "91 1.0\n",
      "92 1.0\n",
      "93 1.0\n",
      "94 1.0\n",
      "95 0.0\n",
      "96 0.0\n",
      "97 1.0\n",
      "98 1.0\n",
      "99 0.0\n",
      "100 1.0\n",
      "101 1.0\n",
      "102 1.0\n",
      "103 1.0\n",
      "104 1.0\n",
      "105 1.0\n",
      "106 0.0\n",
      "107 1.0\n",
      "108 1.0\n",
      "109 1.0\n",
      "110 0.0\n",
      "111 0.0\n",
      "112 1.0\n",
      "113 1.0\n",
      "114 1.0\n",
      "115 1.0\n",
      "116 0.0\n",
      "117 1.0\n",
      "118 1.0\n",
      "119 1.0\n",
      "120 1.0\n",
      "121 1.0\n",
      "122 0.0\n",
      "123 1.0\n",
      "124 1.0\n",
      "125 1.0\n",
      "126 0.0\n",
      "127 1.0\n",
      "128 1.0\n",
      "129 0.0\n",
      "130 1.0\n",
      "131 0.0\n",
      "132 1.0\n",
      "133 1.0\n",
      "134 1.0\n",
      "135 1.0\n",
      "136 1.0\n",
      "137 0.0\n",
      "138 1.0\n",
      "139 1.0\n",
      "140 1.0\n",
      "141 1.0\n",
      "142 1.0\n"
     ]
    }
   ],
   "source": [
    "# test predict function on X_test dataw\n",
    "for i in range(X_test.shape[0]):\n",
    "    test_instance = X_test[i, :]\n",
    "    prediction = predict(tree_entropy, test_instance)\n",
    "    print(i, prediction)"
   ]
  },
  {
   "cell_type": "code",
   "execution_count": 226,
   "metadata": {},
   "outputs": [
    {
     "name": "stdout",
     "output_type": "stream",
     "text": [
      "Gini Accuracy: 93.00699300699301\n",
      "Entropy Accuracy: 93.7062937062937\n"
     ]
    }
   ],
   "source": [
    "# test calc_accuracy on X_test data\n",
    "gini_accuracy = calc_accuracy(tree_gini, X_test)\n",
    "entropy_accuracy = calc_accuracy(tree_entropy, X_test)\n",
    "print(\"Gini Accuracy:\", gini_accuracy)\n",
    "print(\"Entropy Accuracy:\", entropy_accuracy)"
   ]
  },
  {
   "cell_type": "markdown",
   "metadata": {},
   "source": [
    "## Chi square pre-pruning\n",
    "\n",
    "Consider the following p-value cut-off values: [1 (no pruning), 0.01, 0.005, 0.001, 0.0005, 0.0001, 0.00001]. For each value, construct a tree and prune it according to the cut-off value. Next, calculate the training and testing accuracy. On a single plot, draw the training and testing accuracy as a function of the p-value. What p-value gives you the best results? Does the results support the theory you learned in class regarding Chi square pruning? Explain. (20 points)\n",
    "\n",
    "**Note**: You need to change the `DecisionNode` to support Chi square pruning. Make sure the `chi_value=1` corresponds to no pruning. The values you need from the Chi square table are available in the python file `hw2.py`."
   ]
  },
  {
   "cell_type": "code",
   "execution_count": 251,
   "metadata": {},
   "outputs": [
    {
     "name": "stdout",
     "output_type": "stream",
     "text": [
      "6.0 1 0.5\n",
      "6.0\n",
      "V\n"
     ]
    }
   ],
   "source": [
    "# test chi value computation based on class example\n",
    "chi_test_data = np.array([[0,1,1],\n",
    "                          [0,1,1],\n",
    "                          [1,1,1],\n",
    "                          [1,1,1],\n",
    "                          [1,1,1],\n",
    "                          [0,0,0]])\n",
    "group_a = chi_test_data[[5], :]\n",
    "group_b = chi_test_data[[0,1,2,3,4], :]\n",
    "chi_value = compute_node_chi_value(1, 0.5, group_a, group_b, 5, 1)\n",
    "print(chi_value)\n",
    "print(\"V\" if np.isclose(chi_value, 6, rtol=0) else \"X\")"
   ]
  },
  {
   "cell_type": "code",
   "execution_count": 252,
   "metadata": {},
   "outputs": [
    {
     "name": "stdout",
     "output_type": "stream",
     "text": [
      "{1: 100.0, 0.01: 98.35680751173709, 0.005: 98.35680751173709, 0.001: 97.41784037558685, 0.0005: 97.41784037558685, 0.0001: 97.41784037558685, 1e-05: 95.53990610328638}\n",
      "{1: 93.7062937062937, 0.01: 93.00699300699301, 0.005: 93.00699300699301, 0.001: 93.00699300699301, 0.0005: 93.00699300699301, 0.0001: 93.00699300699301, 1e-05: 92.3076923076923}\n"
     ]
    }
   ],
   "source": [
    "training = X_train\n",
    "testing  = X_test\n",
    "\n",
    "training_accuracy_dict = {}\n",
    "testing_accuracy_dict = {}\n",
    "for chi_value in [1, 0.01, 0.005, 0.001, 0.0005, 0.0001, 0.00001]:\n",
    "    test_tree = build_tree(training, calc_entropy, chi_value)\n",
    "    training_accuracy_dict[chi_value] = calc_accuracy(test_tree, training)\n",
    "    testing_accuracy_dict[chi_value] = calc_accuracy(test_tree, testing)\n",
    "    \n",
    "print(training_accuracy_dict)\n",
    "print(testing_accuracy_dict)"
   ]
  },
  {
   "cell_type": "code",
   "execution_count": 254,
   "metadata": {},
   "outputs": [
    {
     "data": {
      "text/plain": [
       "<matplotlib.legend.Legend at 0x1a1e900e10>"
      ]
     },
     "execution_count": 254,
     "metadata": {},
     "output_type": "execute_result"
    },
    {
     "data": {
      "image/png": "[encoded data removed]",
      "text/plain": [
       "<Figure size 720x576 with 1 Axes>"
      ]
     },
     "metadata": {
      "needs_background": "light"
     },
     "output_type": "display_data"
    }
   ],
   "source": [
    "p_values = [1, 0.01, 0.005, 0.001, 0.0005, 0.0001, 0.00001]\n",
    "testing_accuracy_values = list(training_accuracy_dict.values())\n",
    "training_accuracy_values = list(testing_accuracy_dict.values())\n",
    "\n",
    "plt.ylabel('Accuracy (%)')\n",
    "plt.xlabel('Chi Value')\n",
    "\n",
    "plt.plot(p_values, training_accuracy_values)\n",
    "plt.plot(p_values, testing_accuracy_values)\n",
    "\n",
    "plt.legend(['Training data accuracy (%)', 'Test data accuracy (%)'])"
   ]
  },
  {
   "cell_type": "markdown",
   "metadata": {},
   "source": [
    "Your answer here"
   ]
  },
  {
   "cell_type": "markdown",
   "metadata": {},
   "source": [
    "## Post pruning\n",
    "\n",
    "Construct a decision tree without Chi square pruning. For each leaf in the tree, calculate the test accuracy of the tree assuming no split occurred on the parent of that leaf and find the best such parent (in the sense that not splitting on that parent results in the best testing accuracy among possible parents). Make that parent into a leaf and repeat this process until you are left with just the root. On a single plot, draw the training and testing accuracy as a function of the number of internal nodes in the tree. Explain the results: what would happen to the training and testing accuracies when you remove nodes from the tree? Can you suggest a different approach to achieve better results? (20 points)"
   ]
  },
  {
   "cell_type": "code",
   "execution_count": null,
   "metadata": {},
   "outputs": [],
   "source": [
    "#### Your code here ####"
   ]
  },
  {
   "cell_type": "markdown",
   "metadata": {},
   "source": [
    "Your answer here"
   ]
  },
  {
   "cell_type": "markdown",
   "metadata": {},
   "source": [
    "## Print the tree\n",
    "\n",
    "Complete the function `print_tree` in the python file `hw2.py` and print the tree using the chosen impurity measure and no pruning. Your code should like something like this (10 points):\n",
    "```\n",
    "[X0 <= 1],\n",
    "  [X1 <= 2]\n",
    "    [X2 <= 3], \n",
    "       leaf: [{1.0: 10}]\n",
    "       leaf: [{0.0: 10}]\n",
    "    [X4 <= 5], \n",
    "       leaf: [{1.0: 5}]\n",
    "       leaf: [{0.0: 10}]\n",
    "   leaf: [{1.0: 50}]\n",
    "```\n"
   ]
  },
  {
   "cell_type": "code",
   "execution_count": 255,
   "metadata": {},
   "outputs": [
    {
     "name": "stdout",
     "output_type": "stream",
     "text": [
      "[A27 <= 0.142350]\n",
      "   [A3 <= 696.250000]\n",
      "      [A27 <= 0.134900]\n",
      "         [A10 <= 0.625550]\n",
      "            [A21 <= 33.350000]\n",
      "               leaf: [{1: 216}]\n",
      "               [A21 <= 33.560000]\n",
      "                  leaf: [{0: 1}]\n",
      "                  leaf: [{1: 17}]\n",
      "            [A1 <= 18.630000]\n",
      "               leaf: [{0: 1}]\n",
      "               leaf: [{1: 2}]\n",
      "         [A15 <= 0.027440]\n",
      "            [A0 <= 13.225000]\n",
      "               leaf: [{1: 1}]\n",
      "               leaf: [{0: 4}]\n",
      "            leaf: [{1: 6}]\n",
      "      [A1 <= 19.720000]\n",
      "         [A6 <= 0.073105]\n",
      "            leaf: [{1: 7}]\n",
      "            leaf: [{0: 3}]\n",
      "         leaf: [{0: 13}]\n",
      "   [A13 <= 21.925000]\n",
      "      [A21 <= 29.000000]\n",
      "         [A1 <= 20.520000]\n",
      "            leaf: [{1: 8}]\n",
      "            leaf: [{0: 1}]\n",
      "         leaf: [{0: 5}]\n",
      "      [A4 <= 0.079285]\n",
      "         leaf: [{1: 1}]\n",
      "         leaf: [{0: 140}]\n"
     ]
    }
   ],
   "source": [
    "print_tree(tree_entropy)"
   ]
  },
  {
   "cell_type": "code",
   "execution_count": null,
   "metadata": {},
   "outputs": [],
   "source": []
  }
 ],
 "metadata": {
  "kernelspec": {
   "display_name": "Python 3",
   "language": "python",
   "name": "python3"
  },
  "language_info": {
   "codemirror_mode": {
    "name": "ipython",
    "version": 3
   },
   "file_extension": ".py",
   "mimetype": "text/x-python",
   "name": "python",
   "nbconvert_exporter": "python",
   "pygments_lexer": "ipython3",
   "version": "3.7.1"
  }
 },
 "nbformat": 4,
 "nbformat_minor": 2
}
