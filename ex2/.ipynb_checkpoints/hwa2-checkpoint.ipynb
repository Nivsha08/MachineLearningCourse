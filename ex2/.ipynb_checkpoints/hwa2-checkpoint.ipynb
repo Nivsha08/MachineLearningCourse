{
 "cells": [
  {
   "cell_type": "markdown",
   "metadata": {},
   "source": [
    "# Exercise 2: Decision Trees\n",
    "\n",
    "In this assignment you will implement a Decision Tree algorithm as learned in class.\n",
    "\n",
    "## Read the following instructions carefully:\n",
    "\n",
    "1. This jupyter notebook contains all the step by step instructions needed for this exercise.\n",
    "2. Write vectorized code whenever possible.\n",
    "3. You are responsible for the correctness of your code and should add as many tests as you see fit. Tests will not be graded nor checked.\n",
    "4. Write your functions in the provided `hw2.py` python module only. All the logic you write is imported and used in this jupyter notebook.\n",
    "5. You are allowed to use functions and methods from the [Python Standard Library](https://docs.python.org/3/library/) and [numpy](https://www.numpy.org/devdocs/reference/) only. Any other imports detected in `hw2.py` will earn you the grade of 0, even if you only used them for testing.\n",
    "6. Your code must run without errors. During the environment setup, you were given a specific version of `numpy` to install. Changes of the configuration we provided are at your own risk. Code that cannot run will also earn you the grade of 0.\n",
    "7. Write your own code. Cheating will not be tolerated. \n",
    "8. Submission includes the `hw2.py` file and this notebook. Answers to qualitative questions should be written in markdown cells (with $\\LaTeX$ support).\n",
    "9. You are allowed to include additional functions.\n",
    "10. Submission: zip only the completed jupyter notebook and the python file `hw2.py`. Do not include the data or any directories. Name the file `ID1_ID2.zip` and submit only one copy of the assignment.\n",
    "\n",
    "## In this exercise you will perform the following:\n",
    "1. Practice OOP in python.\n",
    "2. Implement two impurity measures: Gini and Entropy.\n",
    "3. Implement a decision tree from scratch.\n",
    "4. Prune the tree to achieve better results.\n",
    "5. Visualize your results and the tree."
   ]
  },
  {
   "cell_type": "code",
   "execution_count": 1,
   "metadata": {
    "deletable": false,
    "editable": false,
    "nbgrader": {
     "checksum": "63bcec20cb406a2169b49168f173c760",
     "grade": false,
     "grade_id": "cell-ed9fe7b1026e33cb",
     "locked": true,
     "schema_version": 1,
     "solution": false
    }
   },
   "outputs": [],
   "source": [
    "import numpy as np\n",
    "import pandas as pd\n",
    "import matplotlib.pyplot as plt\n",
    "from hw2 import * # this imports all functions from hw2.\n",
    "\n",
    "# make matplotlib figures appear inline in the notebook\n",
    "%matplotlib inline\n",
    "plt.rcParams['figure.figsize'] = (10.0, 8.0) # set default size of plots\n",
    "plt.rcParams['image.interpolation'] = 'nearest'\n",
    "plt.rcParams['image.cmap'] = 'gray'\n",
    "\n",
    "# Make the notebook automatically reload external python modules\n",
    "%load_ext autoreload\n",
    "%autoreload 2"
   ]
  },
  {
   "cell_type": "markdown",
   "metadata": {},
   "source": [
    "## Warmup - OOP in python\n",
    "\n",
    "Our decision tree will be implemented using a dedicated python class. Python classes are very similar to classes in Java.\n",
    "\n",
    "\n",
    "You can use the following [site](https://jeffknupp.com/blog/2014/06/18/improve-your-python-python-classes-and-object-oriented-programming/) to learn about classes in python."
   ]
  },
  {
   "cell_type": "code",
   "execution_count": 2,
   "metadata": {},
   "outputs": [],
   "source": [
    "class Node(object):\n",
    "    def __init__(self, data):\n",
    "        self.data = data\n",
    "        self.children = []\n",
    "\n",
    "    def add_child(self, node):\n",
    "        self.children.append(node)"
   ]
  },
  {
   "cell_type": "code",
   "execution_count": 3,
   "metadata": {},
   "outputs": [
    {
     "data": {
      "text/plain": [
       "[<__main__.Node at 0x10a0173c8>, <__main__.Node at 0x10a0174a8>]"
      ]
     },
     "execution_count": 3,
     "metadata": {},
     "output_type": "execute_result"
    }
   ],
   "source": [
    "n = Node(5)\n",
    "p = Node(6)\n",
    "q = Node(7)\n",
    "n.add_child(p)\n",
    "n.add_child(q)\n",
    "n.children"
   ]
  },
  {
   "cell_type": "markdown",
   "metadata": {},
   "source": [
    "## Data preprocessing\n",
    "\n",
    "We will use the breast cancer dataset that is available as a part of sklearn - a popular machine learning and data science library in python. In this example, our dataset will be a single matrix with the **labels on the last column**. Notice that you are not allowed to use additional functions from sklearn."
   ]
  },
  {
   "cell_type": "code",
   "execution_count": 4,
   "metadata": {
    "deletable": false,
    "editable": false,
    "nbgrader": {
     "checksum": "0e2620b671ce98b8a856d59ce9f95f71",
     "grade": false,
     "grade_id": "cell-d79cb4542926ad3f",
     "locked": true,
     "schema_version": 1,
     "solution": false
    }
   },
   "outputs": [
    {
     "name": "stdout",
     "output_type": "stream",
     "text": [
      "Training dataset shape:  (426, 31)\n",
      "Testing dataset shape:  (143, 31)\n"
     ]
    }
   ],
   "source": [
    "from sklearn import datasets\n",
    "from sklearn.model_selection import train_test_split\n",
    "\n",
    "# load dataset\n",
    "X, y = datasets.load_breast_cancer(return_X_y = True)\n",
    "X = np.column_stack([X,y]) # the last column holds the labels\n",
    "\n",
    "# split dataset\n",
    "X_train, X_test = train_test_split(X, random_state=99)\n",
    "\n",
    "print(\"Training dataset shape: \", X_train.shape)\n",
    "print(\"Testing dataset shape: \", X_test.shape)"
   ]
  },
  {
   "cell_type": "code",
   "execution_count": 5,
   "metadata": {},
   "outputs": [],
   "source": [
    "# initialize class example dataset (mr.smith tennis)\n",
    "class_dataset = np.array([[0,0,1,0,0],\n",
    "                   [0,0,1,1,0],\n",
    "                   [1,0,1,0,1],\n",
    "                   [2,1,1,0,1],\n",
    "                   [2,2,0,0,1],\n",
    "                   [2,2,0,1,0],\n",
    "                   [1,2,0,1,1],\n",
    "                   [0,1,1,0,0],\n",
    "                   [0,2,0,0,1],\n",
    "                   [2,1,0,0,1],\n",
    "                   [0,1,0,1,1],\n",
    "                   [1,1,1,1,1],\n",
    "                   [1,0,0,0,1],\n",
    "                   [2,1,1,1,0]])"
   ]
  },
  {
   "cell_type": "markdown",
   "metadata": {},
   "source": [
    "## Impurity Measures\n",
    "\n",
    "Implement the functions `calc_gini` (5 points) and `calc_entropy` (5 points) in the python file `hw2.py`. You are encouraged to test your implementation using the cell below."
   ]
  },
  {
   "cell_type": "code",
   "execution_count": 6,
   "metadata": {},
   "outputs": [
    {
     "name": "stdout",
     "output_type": "stream",
     "text": [
      "0.9402859586706311\n",
      "entropy V\n",
      "0.4591836734693877\n",
      "gini V\n"
     ]
    }
   ],
   "source": [
    "# data from class enropy example\n",
    "# entropy test \n",
    "entropy = calc_entropy(class_dataset)\n",
    "print(entropy)\n",
    "print('entropy V' if np.isclose(entropy, 0.940, rtol=1e-01) else 'entropy X')\n",
    "\n",
    "# gini test\n",
    "gini = calc_gini(class_dataset)\n",
    "print(gini)\n",
    "print('gini V' if np.isclose(gini, 0.450, rtol=1e-01) else 'gini X')"
   ]
  },
  {
   "cell_type": "markdown",
   "metadata": {},
   "source": [
    "## Building a Decision Tree\n",
    "\n",
    "Use a Python class to construct the decision tree (look at the `DecisionNode` class in the python file `hw2.py`. Your class should support the following functionality:\n",
    "\n",
    "1. Initiating a node for a decision tree. You will need to use several class methods and class attributes and you are free to use them as you see fit. We recommend that every node will hold the feature and value used for the split and its children.\n",
    "2. Your code should support both Gini and Entropy as impurity measures. \n",
    "3. The provided data includes continuous data. In this exercise, create at most a single split for each node of the tree. The threshold you need to use for this exercise are the average of each consecutive pair of values. For example, assume some features contains the following values: [1,2,3,4,5]. You should use the following thresholds [1.5, 2.5, 3.5, 4.5]. \n",
    "4. When constructing the tree, test all possible thresholds for each feature. The stopping criteria is a pure tree.\n",
    "\n",
    "Complete the class `DecisionNode` in the python file `hw2.py`. The structure of this class is entirely up to you. Complete the function `build_tree` in the python file `hw2.py`. This function should get the training dataset and the impurity as inputs, initiate a root for the decision tree and construct the tree according to the procedure you learned in class. (30 points)."
   ]
  },
  {
   "cell_type": "code",
   "execution_count": 7,
   "metadata": {},
   "outputs": [],
   "source": [
    "# threshold function test\n",
    "test_values = [1,2,3,4,5]\n",
    "test_values = np.column_stack([test_values, np.zeros(len(test_values))])\n",
    "test_thresholds = build_thresholds_for_attribute_values(test_values, 0)"
   ]
  },
  {
   "cell_type": "code",
   "execution_count": 8,
   "metadata": {},
   "outputs": [],
   "source": [
    "# test settings definitions on X_train data\n",
    "test_attribute_index = 8\n",
    "test_threshold = 0.23\n",
    "test_impurity_function = calc_entropy"
   ]
  },
  {
   "cell_type": "code",
   "execution_count": 9,
   "metadata": {},
   "outputs": [
    {
     "data": {
      "text/plain": [
       "0.9546904191180343"
      ]
     },
     "execution_count": 9,
     "metadata": {},
     "output_type": "execute_result"
    }
   ],
   "source": [
    "# weighted average test on X_train data\n",
    "calc_weighted_average_by_attribute(X_train, test_attribute_index, test_threshold, test_impurity_function)"
   ]
  },
  {
   "cell_type": "code",
   "execution_count": 10,
   "metadata": {},
   "outputs": [],
   "source": [
    "# data split test on X_train data\n",
    "test_group_a, test_group_b, group_a_size, group_b_size = split_data(X_train, test_attribute_index, test_threshold)\n",
    "seconds_split_attribute_index = 5\n",
    "second_split_test_threshold = 0.17\n",
    "test_group_a, test_group_b, group_a_size, group_b_size = split_data(test_group_a, seconds_split_attribute_index, second_split_test_threshold)"
   ]
  },
  {
   "cell_type": "code",
   "execution_count": 11,
   "metadata": {},
   "outputs": [],
   "source": [
    "# test attribute column removal\n",
    "test_group_a = remove_attribute_column(test_group_a, 1)"
   ]
  },
  {
   "cell_type": "code",
   "execution_count": 12,
   "metadata": {},
   "outputs": [
    {
     "data": {
      "text/plain": [
       "(0.15183550136234159, 2, 0.5)"
      ]
     },
     "execution_count": 12,
     "metadata": {},
     "output_type": "execute_result"
    }
   ],
   "source": [
    "# test find best information gain on class example dataset\n",
    "find_best_information_gain_params(class_dataset, calc_entropy)"
   ]
  },
  {
   "cell_type": "code",
   "execution_count": 13,
   "metadata": {},
   "outputs": [],
   "source": [
    "# python support passing a function as arguments to another function.\n",
    "tree_gini = build_tree(data=X_train, impurity=calc_gini, p_value=1) \n",
    "tree_entropy = build_tree(data=X_train, impurity=calc_entropy, p_value=1)"
   ]
  },
  {
   "cell_type": "markdown",
   "metadata": {},
   "source": [
    "## Tree evaluation\n",
    "\n",
    "Complete the functions `predict` and `calc_accuracy` in the python file `hw2.py`. You are allowed to implement this functionality as a class method.\n",
    "\n",
    "After building both trees using the training set (using Gini and Entropy as impurity measures), you should calculate the accuracy on the test set and print the measure that gave you the best test accuracy. For the rest of the exercise, use that impurity measure. (10 points)"
   ]
  },
  {
   "cell_type": "code",
   "execution_count": 14,
   "metadata": {},
   "outputs": [],
   "source": [
    "# test predict function on X_test dataw\n",
    "for i in range(X_test.shape[0]):\n",
    "    test_instance = X_test[i, :]\n",
    "    prediction = predict(tree_entropy, test_instance)"
   ]
  },
  {
   "cell_type": "code",
   "execution_count": 15,
   "metadata": {},
   "outputs": [
    {
     "name": "stdout",
     "output_type": "stream",
     "text": [
      "Gini Accuracy: 93.00699300699301\n",
      "Entropy Accuracy: 93.7062937062937\n"
     ]
    }
   ],
   "source": [
    "# test calc_accuracy on X_test data\n",
    "gini_accuracy = calc_accuracy(tree_gini, X_test)\n",
    "entropy_accuracy = calc_accuracy(tree_entropy, X_test)\n",
    "print(\"Gini Accuracy:\", gini_accuracy)\n",
    "print(\"Entropy Accuracy:\", entropy_accuracy)"
   ]
  },
  {
   "cell_type": "markdown",
   "metadata": {},
   "source": [
    "## Chi square pre-pruning\n",
    "\n",
    "Consider the following p-value cut-off values: [1 (no pruning), 0.01, 0.005, 0.001, 0.0005, 0.0001, 0.00001]. For each value, construct a tree and prune it according to the cut-off value. Next, calculate the training and testing accuracy. On a single plot, draw the training and testing accuracy as a function of the p-value. What p-value gives you the best results? Does the results support the theory you learned in class regarding Chi square pruning? Explain. (20 points)\n",
    "\n",
    "**Note**: You need to change the `DecisionNode` to support Chi square pruning. Make sure the `chi_value=1` corresponds to no pruning. The values you need from the Chi square table are available in the python file `hw2.py`."
   ]
  },
  {
   "cell_type": "code",
   "execution_count": 16,
   "metadata": {},
   "outputs": [
    {
     "name": "stdout",
     "output_type": "stream",
     "text": [
      "V\n"
     ]
    }
   ],
   "source": [
    "# test chi value computation based on class example\n",
    "chi_test_data = np.array([[0,1,1],\n",
    "                          [0,1,1],\n",
    "                          [1,1,1],\n",
    "                          [1,1,1],\n",
    "                          [1,1,1],\n",
    "                          [0,0,0]])\n",
    "group_a = chi_test_data[[5], :]\n",
    "group_b = chi_test_data[[0,1,2,3,4], :]\n",
    "chi_value = compute_chi_statistics(chi_test_data, 1, 0.5)\n",
    "print(\"V\" if np.isclose(chi_value, 6, rtol=0) else \"X\")"
   ]
  },
  {
   "cell_type": "code",
   "execution_count": 17,
   "metadata": {},
   "outputs": [],
   "source": [
    "training = []\n",
    "testing  = []\n",
    "\n",
    "for chi_value in [1, 0.01, 0.005, 0.001, 0.0005, 0.0001, 0.00001]:\n",
    "    test_tree = build_tree(X_train, calc_entropy, chi_value)\n",
    "    training.append(calc_accuracy(test_tree, X_train))\n",
    "    testing.append(calc_accuracy(test_tree, X_test))"
   ]
  },
  {
   "cell_type": "code",
   "execution_count": 18,
   "metadata": {},
   "outputs": [
    {
     "name": "stdout",
     "output_type": "stream",
     "text": [
      "[93.7062937062937, 94.4055944055944, 94.4055944055944, 91.6083916083916, 91.6083916083916, 92.3076923076923, 92.3076923076923]\n"
     ]
    }
   ],
   "source": [
    "print(testing)"
   ]
  },
  {
   "cell_type": "code",
   "execution_count": 19,
   "metadata": {},
   "outputs": [],
   "source": [
    "p_values = [1, 0.01, 0.005, 0.001, 0.0005, 0.0001, 0.00001]"
   ]
  },
  {
   "cell_type": "code",
   "execution_count": 20,
   "metadata": {},
   "outputs": [],
   "source": [
    "# find best p_value\n",
    "highest_acc = 0\n",
    "best_p_value = 0\n",
    "for i in range(len(p_values)):\n",
    "    if testing[i] > highest_acc:\n",
    "        highest_acc = testing[i]\n",
    "        best_p_value = p_values[i]"
   ]
  },
  {
   "cell_type": "code",
   "execution_count": 23,
   "metadata": {},
   "outputs": [
    {
     "data": {
      "image/png": "[encoded data removed]",
      "text/plain": [
       "<Figure size 432x288 with 1 Axes>"
      ]
     },
     "metadata": {
      "needs_background": "light"
     },
     "output_type": "display_data"
    }
   ],
   "source": [
    "plt.ylabel('Accuracy (%)')\n",
    "plt.xlabel('Chi Value')\n",
    "plt.xscale('log')\n",
    "plt.yscale('log')\n",
    "plt.plot(p_values, training, '-')\n",
    "plt.plot(p_values, testing, '--')\n",
    "plt.stem([best_p_value], [100], '--', 'r')\n",
    "plt.legend([\"Training data accuracy (%)\", \"Testing data accuracy (%)\", \"Best p_value\"])\n",
    "plt.show()"
   ]
  },
  {
   "cell_type": "markdown",
   "metadata": {},
   "source": [
    "### Answer:\n",
    "The best p_value is 0.01, which yields accuracy of ~94.5% on the test dataset.\n",
    "As we can in the above graph, for every x > 0.01, the test data accuracy level is monotonically decreasing, as a result of overfitting. It reaches its maximum value for x = 0.01 (the green dashed line), which is therefore the highest accuracy rate on the test data.\n",
    "Of course the training data accuracy keeps on increasing for every x, until it reaches 100% (on p_value = 1: no pruning).\n",
    "Hence these results are consistent with the expected behaviour we mentioned in class."
   ]
  },
  {
   "cell_type": "markdown",
   "metadata": {},
   "source": [
    "## Post pruning\n",
    "\n",
    "Construct a decision tree without Chi square pruning. For each leaf in the tree, calculate the test accuracy of the tree assuming no split occurred on the parent of that leaf and find the best such parent (in the sense that not splitting on that parent results in the best testing accuracy among possible parents). Make that parent into a leaf and repeat this process until you are left with just the root. On a single plot, draw the training and testing accuracy as a function of the number of internal nodes in the tree. Explain the results: what would happen to the training and testing accuracies when you remove nodes from the tree? Can you suggest a different approach to achieve better results? (20 points)"
   ]
  },
  {
   "cell_type": "code",
   "execution_count": 24,
   "metadata": {},
   "outputs": [],
   "source": [
    "original_tree = build_tree(X_train, calc_entropy, 1)"
   ]
  },
  {
   "cell_type": "code",
   "execution_count": 25,
   "metadata": {},
   "outputs": [],
   "source": [
    "post_prune_training_accuracy_values = [calc_post_pruning_accuracy(original_tree, None, X_train)]\n",
    "post_prune_test_accuracy_values = [calc_post_pruning_accuracy(original_tree, None, X_test)]\n",
    "number_of_nodes = [count_tree_nodes(original_tree)]"
   ]
  },
  {
   "cell_type": "code",
   "execution_count": 26,
   "metadata": {},
   "outputs": [],
   "source": [
    "while len(original_tree.children) > 0:\n",
    "    potential_parents = get_tree_potential_parents(original_tree)\n",
    "    best_accuracy, parent_to_prune = find_best_node_to_prune(original_tree, potential_parents, X_test)\n",
    "    prune_parent(original_tree, parent_to_prune)\n",
    "    number_of_nodes.append(count_tree_nodes(original_tree))\n",
    "    post_prune_test_accuracy_values.append(best_accuracy)\n",
    "    post_prune_training_accuracy_values.append(calc_post_pruning_accuracy(original_tree, parent_to_prune, X_train))"
   ]
  },
  {
   "cell_type": "code",
   "execution_count": 27,
   "metadata": {},
   "outputs": [],
   "source": [
    "# find optimal number of nodes\n",
    "highest_acc = 0\n",
    "optimal_number_of_nodes = 0\n",
    "for i in range(len(number_of_nodes)):\n",
    "    if post_prune_test_accuracy_values[i] > highest_acc:\n",
    "        highest_acc = post_prune_test_accuracy_values[i]\n",
    "        optimal_number_of_nodes = number_of_nodes[i]"
   ]
  },
  {
   "cell_type": "markdown",
   "metadata": {},
   "source": [
    "### Answer:\n",
    "When removing nodes from the tree we potentially throw away powerful prediction knowledge, gained by splitting according to a specific attribute (or more than one attribute, if we prune a complete sub-tree).\n",
    "Hence we expect the accuracy to significantly drop when reaching a low number of nodes in the tree - which is what the graph describes: ~69% - 80% accuracy for <= 3 nodes, while reaching maximum of ~94.5% accuracy for higher number of nodes.\n",
    "\n",
    "A possibly better approach to pruning the tree would be to combine pre and post pruning:\n",
    "Build the tree while pre-pruning according to the optimal Chi Square value we found earlier, and then post-prune to check if pruning the tree even more isn't harming our accuracy. In that way we can be certain we reached the optimal decision tree."
   ]
  },
  {
   "cell_type": "code",
   "execution_count": 28,
   "metadata": {},
   "outputs": [
    {
     "data": {
      "image/png": "[encoded data removed]",
      "text/plain": [
       "<Figure size 432x288 with 1 Axes>"
      ]
     },
     "metadata": {
      "needs_background": "light"
     },
     "output_type": "display_data"
    }
   ],
   "source": [
    "plt.ylabel('Accuracy (%)')\n",
    "plt.xlabel('Number of tree nodes')\n",
    "plt.xscale('linear')\n",
    "plt.yscale('log')\n",
    "plt.plot(number_of_nodes, post_prune_training_accuracy_values, '-')\n",
    "plt.plot(number_of_nodes, post_prune_test_accuracy_values, '--')\n",
    "plt.stem([optimal_number_of_nodes], [100], '--', 'r')\n",
    "plt.legend([\"Training data accuracy (%)\", \"Testing data accuracy (%)\", \"Optimal number of nodes\"])\n",
    "plt.show()"
   ]
  },
  {
   "cell_type": "markdown",
   "metadata": {},
   "source": [
    "## Print the tree\n",
    "\n",
    "Complete the function `print_tree` in the python file `hw2.py` and print the tree using the chosen impurity measure and no pruning. Your code should like something like this (10 points):\n",
    "```\n",
    "[X0 <= 1],\n",
    "  [X1 <= 2]\n",
    "    [X2 <= 3], \n",
    "       leaf: [{1.0: 10}]\n",
    "       leaf: [{0.0: 10}]\n",
    "    [X4 <= 5], \n",
    "       leaf: [{1.0: 5}]\n",
    "       leaf: [{0.0: 10}]\n",
    "   leaf: [{1.0: 50}]\n",
    "```\n"
   ]
  },
  {
   "cell_type": "code",
   "execution_count": 30,
   "metadata": {},
   "outputs": [
    {
     "name": "stdout",
     "output_type": "stream",
     "text": [
      "[A27 <= 0.142350]\n",
      "   [A3 <= 696.250000]\n",
      "      [A27 <= 0.134900]\n",
      "         [A10 <= 0.625550]\n",
      "            [A21 <= 33.350000]\n",
      "               leaf: [{1: 216}]\n",
      "               [A21 <= 33.560000]\n",
      "                  leaf: [{0: 1}]\n",
      "                  leaf: [{1: 17}]\n",
      "            [A1 <= 18.630000]\n",
      "               leaf: [{0: 1}]\n",
      "               leaf: [{1: 2}]\n",
      "         [A15 <= 0.027440]\n",
      "            [A0 <= 13.225000]\n",
      "               leaf: [{1: 1}]\n",
      "               leaf: [{0: 4}]\n",
      "            leaf: [{1: 6}]\n",
      "      [A1 <= 19.720000]\n",
      "         [A6 <= 0.073105]\n",
      "            leaf: [{1: 7}]\n",
      "            leaf: [{0: 3}]\n",
      "         leaf: [{0: 13}]\n",
      "   [A13 <= 21.925000]\n",
      "      [A21 <= 29.000000]\n",
      "         [A1 <= 20.520000]\n",
      "            leaf: [{1: 8}]\n",
      "            leaf: [{0: 1}]\n",
      "         leaf: [{0: 5}]\n",
      "      [A4 <= 0.079285]\n",
      "         leaf: [{1: 1}]\n",
      "         leaf: [{0: 140}]\n"
     ]
    }
   ],
   "source": [
    "tree_to_print = build_tree(X_train, calc_entropy, 1)\n",
    "print_tree(tree_to_print)"
   ]
  },
  {
   "cell_type": "code",
   "execution_count": null,
   "metadata": {},
   "outputs": [],
   "source": []
  }
 ],
 "metadata": {
  "kernelspec": {
   "display_name": "Python 3",
   "language": "python",
   "name": "python3"
  },
  "language_info": {
   "codemirror_mode": {
    "name": "ipython",
    "version": 3
   },
   "file_extension": ".py",
   "mimetype": "text/x-python",
   "name": "python",
   "nbconvert_exporter": "python",
   "pygments_lexer": "ipython3",
   "version": "3.7.1"
  }
 },
 "nbformat": 4,
 "nbformat_minor": 2
}
